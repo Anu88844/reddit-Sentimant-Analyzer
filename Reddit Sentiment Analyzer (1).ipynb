{
 "cells": [
  {
   "cell_type": "markdown",
   "id": "2cd9a522-d9db-4177-89df-8394a24fc2aa",
   "metadata": {},
   "source": [
    "<u><b><i>Sentiment Analyzer: Analyzing Reddit Data for Sentiment Analysis</i></b></u>"
   ]
  },
  {
   "cell_type": "markdown",
   "id": "0af76370-7cbd-4d99-b762-94f30c43448a",
   "metadata": {},
   "source": [
    "<img src=\"image (1).png\" />"
   ]
  },
  {
   "cell_type": "markdown",
   "id": "8a8f4e76-1027-4a3f-b7d6-797edd069c37",
   "metadata": {},
   "source": [
    "<b>Project Definition</b>\n",
    "The provided code is a Python script that utilizes the PRAW (Python Reddit API Wrapper) library and the TextBlob library to perform sentiment analysis on Reddit data. Here's a breakdown of the steps:\n",
    "\n",
    "1. Import the required libraries: praw for accessing the Reddit API and TextBlob for sentiment analysis. Also, import the pandas library for data manipulation.\n",
    "\n",
    "2. Initialize the Reddit API client using your own client ID, client secret, and user agent. Make sure to replace 'YOUR_CLIENT_ID', 'YOUR_CLIENT_SECRET', and 'YOUR_USER_AGENT' with your actual credentials.\n",
    "\n",
    "3. Specify the name of the subreddit you want to analyze by assigning it to the 'subreddit_name' variable. You can change it to the desired subreddit.\n",
    "\n",
    "4. Set the number of posts and comments you want to retrieve by specifying the 'num_posts' and 'num_comments' variables.\n",
    "\n",
    "5. Create empty lists 'posts_data' and 'comments_data' to store the data of each post and comment.\n",
    "\n",
    "6. Iterate through the new posts in the specified subreddit using a for loop. For each post, extract the post title, post body, post URL, and calculate the sentiment polarity using TextBlob. Append this data to the 'posts_data' list.\n",
    "\n",
    "7. Iterate through the posts again to retrieve the comments. Use the 'replace_more' method to ensure all comments are loaded. For each comment, extract the comment body and calculate the sentiment polarity using TextBlob. Append this data to the 'comments_data' list.\n",
    "\n",
    "8. Convert the 'posts_data' list into a pandas DataFrame 'posts_df' and the 'comments_data' list into a pandas DataFrame 'comments_df'.\n",
    "\n",
    "9. Save the data from 'posts_df' and 'comments_df' as separate CSV files ('reddit_posts.csv' and 'reddit_comments.csv') using the 'to_csv' method. Set 'index=False' to exclude the index column from the CSV files.\n",
    "\n",
    "10. Finally, print the first few rows of both 'posts_df' and 'comments_df' to verify the data has been properly extracted and processed.\n"
   ]
  },
  {
   "cell_type": "code",
   "execution_count": 1,
   "id": "c5664c4e-8d5e-4b5d-9d01-67d92ee6c503",
   "metadata": {},
   "outputs": [],
   "source": [
    "#Import the necessary libraries\n",
    "import praw\n",
    "from textblob import TextBlob\n",
    "import pandas as pd\n",
    "\n"
   ]
  },
  {
   "cell_type": "markdown",
   "id": "e3aa775b-035f-4d46-960e-ed429d53e6a1",
   "metadata": {},
   "source": [
    "Step 3: Set up the Reddit API credentials.\n",
    "\n",
    "You need to create a Reddit application and obtain your API credentials (client_id, client_secret, user_agent). Visit https://www.reddit.com/prefs/apps and click \"Create App\" or \"Create Another App\" to get the credentials.\n"
   ]
  },
  {
   "cell_type": "code",
   "execution_count": 2,
   "id": "afcde5bb-255c-420e-8573-1f4664ea50d2",
   "metadata": {},
   "outputs": [],
   "source": [
    "#Define the subreddit and number of posts/comments to fetch.\n",
    "reddit = praw.Reddit(client_id='UlDk7ar-50JGhh4JWjZjmw',\n",
    "                     client_secret='DyE7qgEaRQTMba5inHJ1I3U8LNFAvA',\n",
    "                     user_agent='Advanced_Shallot1271')\n",
    "\n"
   ]
  },
  {
   "cell_type": "code",
   "execution_count": 3,
   "id": "4627d8cb-0d77-4e77-a8bd-2ab8044554c6",
   "metadata": {},
   "outputs": [],
   "source": [
    "#Define the subreddit and number of posts/comments to fetch.\n",
    "subreddit_name = 'learnpython'  # Change this to your desired subreddit\n",
    "num_posts = 10\n",
    "num_comments = 100\n"
   ]
  },
  {
   "cell_type": "code",
   "execution_count": 4,
   "id": "0c84757d-0fd0-407a-a2e6-bdf41d5dc333",
   "metadata": {},
   "outputs": [],
   "source": [
    "subreddit = reddit.subreddit(subreddit_name)\n",
    "\n",
    "posts_data = []\n",
    "\n",
    "for post in subreddit.new(limit=num_posts):\n",
    "    posts_data.append({\n",
    "        'Post Title': post.title,\n",
    "        'Post Body': post.selftext,\n",
    "        'Post URL': post.url,\n",
    "        'Post Sentiment': TextBlob(post.title).sentiment.polarity\n",
    "    })\n",
    "\n",
    "comments_data = []\n",
    "\n",
    "for submission in subreddit.new(limit=num_posts):\n",
    "    submission.comments.replace_more(limit=num_comments)\n",
    "    for comment in submission.comments.list():\n",
    "        comments_data.append({\n",
    "            'Comment': comment.body,\n",
    "            'Comment Sentiment': TextBlob(comment.body).sentiment.polarity\n",
    "        })\n",
    "\n"
   ]
  },
  {
   "cell_type": "code",
   "execution_count": 5,
   "id": "dfe77990-2e49-4edc-abf7-d044a78d3a9a",
   "metadata": {},
   "outputs": [],
   "source": [
    "#Create DataFrames from the fetched data.\n",
    "posts_df = pd.DataFrame(posts_data)\n",
    "comments_df = pd.DataFrame(comments_data)\n",
    "\n"
   ]
  },
  {
   "cell_type": "code",
   "execution_count": 6,
   "id": "f144192b-4028-4833-b090-32e0434fb5eb",
   "metadata": {},
   "outputs": [],
   "source": [
    "#Save the DataFrames to CSV files.\n",
    "posts_df.to_csv('reddit_posts.csv', index=False)\n",
    "comments_df.to_csv('reddit_comments.csv', index=False)\n"
   ]
  },
  {
   "cell_type": "markdown",
   "id": "db887312-5c98-4029-a426-74f21896d02c",
   "metadata": {},
   "source": [
    "<b>Sentiment Analyzer</b>\n",
    "\n",
    "<img src=\"image (7).png\" />"
   ]
  },
  {
   "cell_type": "code",
   "execution_count": 7,
   "id": "575d4056-c52c-4c88-8794-508e9c44be2b",
   "metadata": {},
   "outputs": [
    {
     "name": "stdout",
     "output_type": "stream",
     "text": [
      "Reddit Posts:\n",
      "                                          Post Title  \\\n",
      "0  tryna make an exact days lived calculator but ...   \n",
      "1  Good Python youtubers (not beginner tutorials)...   \n",
      "2                     Having issue installing module   \n",
      "3  Why isn't my variable updating when I update a...   \n",
      "4  Need help writing a phyton code for a simple p...   \n",
      "\n",
      "                                           Post Body  \\\n",
      "0  This is the code rn : \\n\\n\\#ExactDaysLivedCalc...   \n",
      "1  I regularly watch the youtube channel [https:/...   \n",
      "2  Hello everyone, I am having issue installing t...   \n",
      "3  My script works with a JSON database of studen...   \n",
      "4  Suppose one wants to write a code to determine...   \n",
      "\n",
      "                                            Post URL  Post Sentiment  \n",
      "0  https://www.reddit.com/r/learnpython/comments/...        0.027344  \n",
      "1  https://www.reddit.com/r/learnpython/comments/...        0.450000  \n",
      "2  https://www.reddit.com/r/learnpython/comments/...        0.000000  \n",
      "3  https://www.reddit.com/r/learnpython/comments/...        0.000000  \n",
      "4  https://www.reddit.com/r/learnpython/comments/...        0.000000  \n",
      "\n",
      "Reddit Comments:\n",
      "                                             Comment  Comment Sentiment\n",
      "0  Can we self promote? I have a step-up series i...           0.325000\n",
      "1  Its hard to tell what happens in the real code...           0.065278\n",
      "2  That means you should start and follow a pytho...           0.000000\n",
      "3  Do you get errors when trying to install the e...           0.000000\n",
      "4  The only issue we ran into installing was gett...           0.066667\n"
     ]
    }
   ],
   "source": [
    "#Display the DataFrames to verify the data.\n",
    "print(\"Reddit Posts:\")\n",
    "print(posts_df.head())\n",
    "\n",
    "print(\"\\nReddit Comments:\")\n",
    "print(comments_df.head())\n"
   ]
  },
  {
   "cell_type": "code",
   "execution_count": null,
   "id": "b1068d6a-ad6c-4b12-b0a9-3a828a01ccb1",
   "metadata": {},
   "outputs": [],
   "source": []
  }
 ],
 "metadata": {
  "kernelspec": {
   "display_name": "Python 3 (ipykernel)",
   "language": "python",
   "name": "python3"
  },
  "language_info": {
   "codemirror_mode": {
    "name": "ipython",
    "version": 3
   },
   "file_extension": ".py",
   "mimetype": "text/x-python",
   "name": "python",
   "nbconvert_exporter": "python",
   "pygments_lexer": "ipython3",
   "version": "3.9.12"
  }
 },
 "nbformat": 4,
 "nbformat_minor": 5
}
